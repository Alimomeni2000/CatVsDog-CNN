{
 "cells": [
  {
   "cell_type": "code",
   "execution_count": 1,
   "id": "ee815c37",
   "metadata": {},
   "outputs": [
    {
     "name": "stderr",
     "output_type": "stream",
     "text": [
      "2023-03-05 11:03:28.844404: I tensorflow/core/platform/cpu_feature_guard.cc:193] This TensorFlow binary is optimized with oneAPI Deep Neural Network Library (oneDNN) to use the following CPU instructions in performance-critical operations:  AVX2 FMA\n",
      "To enable them in other operations, rebuild TensorFlow with the appropriate compiler flags.\n",
      "2023-03-05 11:03:29.011892: W tensorflow/stream_executor/platform/default/dso_loader.cc:64] Could not load dynamic library 'libcudart.so.11.0'; dlerror: libcudart.so.11.0: cannot open shared object file: No such file or directory\n",
      "2023-03-05 11:03:29.011913: I tensorflow/stream_executor/cuda/cudart_stub.cc:29] Ignore above cudart dlerror if you do not have a GPU set up on your machine.\n",
      "2023-03-05 11:03:29.047450: E tensorflow/stream_executor/cuda/cuda_blas.cc:2981] Unable to register cuBLAS factory: Attempting to register factory for plugin cuBLAS when one has already been registered\n",
      "2023-03-05 11:03:30.390292: W tensorflow/stream_executor/platform/default/dso_loader.cc:64] Could not load dynamic library 'libnvinfer.so.7'; dlerror: libnvinfer.so.7: cannot open shared object file: No such file or directory\n",
      "2023-03-05 11:03:30.390372: W tensorflow/stream_executor/platform/default/dso_loader.cc:64] Could not load dynamic library 'libnvinfer_plugin.so.7'; dlerror: libnvinfer_plugin.so.7: cannot open shared object file: No such file or directory\n",
      "2023-03-05 11:03:30.390381: W tensorflow/compiler/tf2tensorrt/utils/py_utils.cc:38] TF-TRT Warning: Cannot dlopen some TensorRT libraries. If you would like to use Nvidia GPU with TensorRT, please make sure the missing libraries mentioned above are installed properly.\n",
      "/home/ali/anaconda3/lib/python3.9/site-packages/scipy/__init__.py:146: UserWarning: A NumPy version >=1.16.5 and <1.23.0 is required for this version of SciPy (detected version 1.24.1\n",
      "  warnings.warn(f\"A NumPy version >={np_minversion} and <{np_maxversion}\"\n"
     ]
    }
   ],
   "source": [
    "from tensorflow.keras.utils import to_categorical\n",
    "from tensorflow.keras.models import Sequential\n",
    "from tensorflow.keras.layers import Conv2D, MaxPool2D, Flatten, Dense\n",
    "from tensorflow.keras.optimizers import Adam\n",
    "from tensorflow.keras.preprocessing.image import ImageDataGenerator\n",
    "import tensorflow as tf"
   ]
  },
  {
   "cell_type": "code",
   "execution_count": null,
   "id": "c0bf63ca",
   "metadata": {},
   "outputs": [],
   "source": [
    "data_generator = ImageDataGenerator(\n",
    "    rescale=1.0/255.0,\n",
    "    zoom_range= 0.4,\n",
    "    horizontal_flip = True,\n",
    "    vertical_flip=True,\n",
    "    rotation_range=60,\n",
    "    width_shift_range=0.3,\n",
    "    height_shift_range=0.3,\n",
    "    shear_range=0.4,\n",
    "    fill_mode = 'nearest'\n",
    "    \n",
    ")\n"
   ]
  },
  {
   "cell_type": "code",
   "execution_count": 15,
   "id": "15f415f7",
   "metadata": {},
   "outputs": [
    {
     "name": "stdout",
     "output_type": "stream",
     "text": [
      "Found 2000 images belonging to 2 classes.\n",
      "Found 291 images belonging to 2 classes.\n"
     ]
    }
   ],
   "source": [
    "train= data_generator.flow_from_directory('PetImages/', class_mode= 'binary', batch_size=50, target_size=(250,250))\n",
    "test= data_generator.flow_from_directory('PetImagesTest//', class_mode= 'binary', batch_size=50, target_size=(250,250))"
   ]
  },
  {
   "cell_type": "code",
   "execution_count": 16,
   "id": "17c548ae",
   "metadata": {},
   "outputs": [],
   "source": [
    "model = Sequential([\n",
    "    Conv2D(16,(3,3), activation = 'relu', padding = 'same', input_shape=(250, 250, 3)),\n",
    "    MaxPool2D(pool_size=(2,2)),\n",
    "    Flatten(),\n",
    "    Dense(units=100, activation='relu'),\n",
    "    Dense(units=1, activation='sigmoid'),\n",
    "\n",
    "])\n",
    "model.compile(optimizer=Adam(learning_rate=0.0001), loss='binary_crossentropy', metrics =['accuracy'])\n"
   ]
  },
  {
   "cell_type": "code",
   "execution_count": 10,
   "id": "0582958d",
   "metadata": {},
   "outputs": [
    {
     "name": "stdout",
     "output_type": "stream",
     "text": [
      "Model: \"sequential_1\"\n",
      "_________________________________________________________________\n",
      " Layer (type)                Output Shape              Param #   \n",
      "=================================================================\n",
      " conv2d_1 (Conv2D)           (None, 250, 250, 16)      448       \n",
      "                                                                 \n",
      " max_pooling2d_1 (MaxPooling  (None, 125, 125, 16)     0         \n",
      " 2D)                                                             \n",
      "                                                                 \n",
      " flatten_1 (Flatten)         (None, 250000)            0         \n",
      "                                                                 \n",
      " dense_2 (Dense)             (None, 100)               25000100  \n",
      "                                                                 \n",
      " dense_3 (Dense)             (None, 1)                 101       \n",
      "                                                                 \n",
      "=================================================================\n",
      "Total params: 25,000,649\n",
      "Trainable params: 25,000,649\n",
      "Non-trainable params: 0\n",
      "_________________________________________________________________\n"
     ]
    }
   ],
   "source": [
    "model.summary()"
   ]
  },
  {
   "cell_type": "code",
   "execution_count": 18,
   "id": "2505db3b",
   "metadata": {},
   "outputs": [
    {
     "name": "stdout",
     "output_type": "stream",
     "text": [
      "** Path: PetImagesTest/Dog/12312.jpg  **\r"
     ]
    }
   ],
   "source": [
    "import os\n",
    "from PIL import Image\n",
    "folder_path = 'PetImagesTest/'\n",
    "extensions = []\n",
    "for fldr in os.listdir(folder_path):\n",
    "    sub_folder_path = os.path.join(folder_path, fldr)\n",
    "    for filee in os.listdir(sub_folder_path):\n",
    "        file_path = os.path.join(sub_folder_path, filee)\n",
    "        print('** Path: {}  **'.format(file_path), end=\"\\r\", flush=True)\n",
    "        im = Image.open(file_path)\n",
    "        rgb_im = im.convert('RGB')\n",
    "        if filee.split('.')[1] not in extensions:\n",
    "            extensions.append(filee.split('.')[1])"
   ]
  },
  {
   "cell_type": "code",
   "execution_count": null,
   "id": "d04d3c1a",
   "metadata": {},
   "outputs": [
    {
     "name": "stderr",
     "output_type": "stream",
     "text": [
      "/tmp/ipykernel_167562/3020056663.py:1: UserWarning: `Model.fit_generator` is deprecated and will be removed in a future version. Please use `Model.fit`, which supports generators.\n",
      "  history = model.fit_generator(train, steps_per_epoch=len(train), validation_data=test, validation_steps=len(test), epochs=30)\n"
     ]
    },
    {
     "name": "stdout",
     "output_type": "stream",
     "text": [
      "Epoch 1/30\n",
      "40/40 [==============================] - 40s 902ms/step - loss: 1.2162 - accuracy: 0.5050 - val_loss: 0.7973 - val_accuracy: 0.5052\n",
      "Epoch 2/30\n",
      "40/40 [==============================] - 43s 1s/step - loss: 0.6939 - accuracy: 0.5795 - val_loss: 0.7313 - val_accuracy: 0.5567\n",
      "Epoch 3/30\n",
      "40/40 [==============================] - 44s 1s/step - loss: 0.6376 - accuracy: 0.6315 - val_loss: 0.6669 - val_accuracy: 0.5842\n",
      "Epoch 4/30\n",
      "40/40 [==============================] - 44s 1s/step - loss: 0.6150 - accuracy: 0.6495 - val_loss: 0.6303 - val_accuracy: 0.6460\n",
      "Epoch 5/30\n",
      "40/40 [==============================] - 45s 1s/step - loss: 0.5652 - accuracy: 0.7085 - val_loss: 0.6259 - val_accuracy: 0.6289\n",
      "Epoch 6/30\n",
      "40/40 [==============================] - 43s 1s/step - loss: 0.5338 - accuracy: 0.7385 - val_loss: 0.6660 - val_accuracy: 0.6151\n",
      "Epoch 7/30\n",
      "40/40 [==============================] - 43s 1s/step - loss: 0.5137 - accuracy: 0.7385 - val_loss: 0.6630 - val_accuracy: 0.6048\n",
      "Epoch 8/30\n",
      "40/40 [==============================] - 43s 1s/step - loss: 0.4680 - accuracy: 0.7945 - val_loss: 0.6135 - val_accuracy: 0.6426\n",
      "Epoch 9/30\n",
      "40/40 [==============================] - 43s 1s/step - loss: 0.4385 - accuracy: 0.8055 - val_loss: 0.6224 - val_accuracy: 0.6598\n",
      "Epoch 10/30\n",
      "40/40 [==============================] - 44s 1s/step - loss: 0.4233 - accuracy: 0.8205 - val_loss: 0.6398 - val_accuracy: 0.6632\n",
      "Epoch 11/30\n",
      "40/40 [==============================] - 45s 1s/step - loss: 0.3938 - accuracy: 0.8415 - val_loss: 0.6281 - val_accuracy: 0.6495\n",
      "Epoch 12/30\n",
      "40/40 [==============================] - 42s 1s/step - loss: 0.3760 - accuracy: 0.8495 - val_loss: 0.6329 - val_accuracy: 0.6632\n",
      "Epoch 13/30\n",
      "40/40 [==============================] - 41s 1s/step - loss: 0.3531 - accuracy: 0.8655 - val_loss: 0.6722 - val_accuracy: 0.6254\n",
      "Epoch 14/30\n",
      "40/40 [==============================] - 42s 1s/step - loss: 0.3354 - accuracy: 0.8815 - val_loss: 0.6562 - val_accuracy: 0.6495\n",
      "Epoch 15/30\n",
      "40/40 [==============================] - 44s 1s/step - loss: 0.2990 - accuracy: 0.9115 - val_loss: 0.6419 - val_accuracy: 0.6598\n",
      "Epoch 16/30\n",
      "40/40 [==============================] - 44s 1s/step - loss: 0.2906 - accuracy: 0.9135 - val_loss: 0.6286 - val_accuracy: 0.6529\n",
      "Epoch 17/30\n",
      "40/40 [==============================] - 44s 1s/step - loss: 0.2901 - accuracy: 0.9015 - val_loss: 0.6906 - val_accuracy: 0.6770\n",
      "Epoch 18/30\n",
      "40/40 [==============================] - 43s 1s/step - loss: 0.2606 - accuracy: 0.9255 - val_loss: 0.6461 - val_accuracy: 0.6495\n",
      "Epoch 19/30\n",
      "40/40 [==============================] - 44s 1s/step - loss: 0.2400 - accuracy: 0.9350 - val_loss: 0.6755 - val_accuracy: 0.6564\n",
      "Epoch 20/30\n",
      "40/40 [==============================] - 44s 1s/step - loss: 0.2360 - accuracy: 0.9385 - val_loss: 0.6672 - val_accuracy: 0.6598\n",
      "Epoch 21/30\n",
      "40/40 [==============================] - 43s 1s/step - loss: 0.2134 - accuracy: 0.9540 - val_loss: 0.6753 - val_accuracy: 0.6495\n",
      "Epoch 22/30\n",
      "40/40 [==============================] - 44s 1s/step - loss: 0.2067 - accuracy: 0.9565 - val_loss: 0.6657 - val_accuracy: 0.6701\n",
      "Epoch 23/30\n",
      "40/40 [==============================] - 44s 1s/step - loss: 0.1921 - accuracy: 0.9685 - val_loss: 0.6802 - val_accuracy: 0.6495\n",
      "Epoch 24/30\n",
      "40/40 [==============================] - 43s 1s/step - loss: 0.2055 - accuracy: 0.9470 - val_loss: 0.7506 - val_accuracy: 0.6529\n",
      "Epoch 25/30\n",
      "40/40 [==============================] - 43s 1s/step - loss: 0.1775 - accuracy: 0.9680 - val_loss: 0.6820 - val_accuracy: 0.6426\n",
      "Epoch 26/30\n",
      "40/40 [==============================] - 44s 1s/step - loss: 0.1823 - accuracy: 0.9590 - val_loss: 0.8452 - val_accuracy: 0.6460\n",
      "Epoch 27/30\n",
      "40/40 [==============================] - 44s 1s/step - loss: 0.1675 - accuracy: 0.9680 - val_loss: 0.7189 - val_accuracy: 0.6186\n",
      "Epoch 28/30\n",
      "40/40 [==============================] - 42s 1s/step - loss: 0.1443 - accuracy: 0.9790 - val_loss: 0.7549 - val_accuracy: 0.6873\n",
      "Epoch 29/30\n",
      "40/40 [==============================] - 41s 1s/step - loss: 0.1461 - accuracy: 0.9780 - val_loss: 0.7239 - val_accuracy: 0.6667\n",
      "Epoch 30/30\n",
      "37/40 [==========================>...] - ETA: 2s - loss: 0.1285 - accuracy: 0.9870"
     ]
    }
   ],
   "source": [
    "history = model.fit_generator(train, steps_per_epoch=len(train), validation_data=test, validation_steps=len(test), epochs=30)"
   ]
  },
  {
   "cell_type": "code",
   "execution_count": null,
   "id": "5c1c4f98",
   "metadata": {},
   "outputs": [],
   "source": [
    "import matplotlib.pyplot as plt\n",
    "plt.plot(history.history['accuracy'], color='green')\n",
    "plt.plot(history.history['val_accuracy'], color='blue')"
   ]
  }
 ],
 "metadata": {
  "kernelspec": {
   "display_name": "Python 3 (ipykernel)",
   "language": "python",
   "name": "python3"
  },
  "language_info": {
   "codemirror_mode": {
    "name": "ipython",
    "version": 3
   },
   "file_extension": ".py",
   "mimetype": "text/x-python",
   "name": "python",
   "nbconvert_exporter": "python",
   "pygments_lexer": "ipython3",
   "version": "3.9.12"
  }
 },
 "nbformat": 4,
 "nbformat_minor": 5
}
